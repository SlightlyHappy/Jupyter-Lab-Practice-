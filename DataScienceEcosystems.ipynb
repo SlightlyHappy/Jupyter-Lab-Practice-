{
  "metadata": {
    "language_info": {
      "codemirror_mode": {
        "name": "python",
        "version": 3
      },
      "file_extension": ".py",
      "mimetype": "text/x-python",
      "name": "python",
      "nbconvert_exporter": "python",
      "pygments_lexer": "ipython3",
      "version": "3.8"
    },
    "kernelspec": {
      "name": "python",
      "display_name": "Python (Pyodide)",
      "language": "python"
    }
  },
  "nbformat_minor": 4,
  "nbformat": 4,
  "cells": [
    {
      "cell_type": "markdown",
      "source": "# Data Science Tools and Ecosystem",
      "metadata": {}
    },
    {
      "cell_type": "markdown",
      "source": "<p> In this notebook, Data Science Tools and Ecosystems are summarized. </p>",
      "metadata": {}
    },
    {
      "cell_type": "markdown",
      "source": "<p> Some of the popular languages that Data Scientists use are: <br> <ol> \n    <li> Python </li>\n    <li> R </li>\n    <li> SQL </li>\n</ol> </p>\n",
      "metadata": {}
    },
    {
      "cell_type": "markdown",
      "source": "<p> Some of the commonly used libraries used by Data Scientists include: <br> <ol> \n    <li> Pandas </li>\n    <li> PyTorch </li>\n    <li> SciPy </li>\n</ol> </p>",
      "metadata": {}
    },
    {
      "cell_type": "markdown",
      "source": "<table>\n  <tr>\n    <th>Data Science Tools</th>\n    </tr>\n    <tr>\n        <td> Python </td>\n    </tr>\n    <tr>\n        <td> JupyterLab </td>\n    </tr>\n    <tr> \n        <td> RStudio </td>\n    </tr>\n</table>",
      "metadata": {}
    },
    {
      "cell_type": "markdown",
      "source": "<h3> Below are a few examples of evaluating arithmetic expressions in Python. </h3>",
      "metadata": {}
    },
    {
      "cell_type": "code",
      "source": "x = (3*4)+5\nprint(x)",
      "metadata": {
        "trusted": true
      },
      "execution_count": 3,
      "outputs": [
        {
          "name": "stdout",
          "text": "17\n",
          "output_type": "stream"
        }
      ]
    },
    {
      "cell_type": "markdown",
      "source": "<p> This is a simple arithmetic expression to multiply then add integers. ",
      "metadata": {}
    },
    {
      "cell_type": "code",
      "source": "#This will convert 200 minutes to hours by dividing by 60\n\nminutes = 200\n\nhours = minutes // 60\nremaining_minutes = minutes % 60\n\nprint(f\"{minutes} minutes is equal to {hours} hours and {remaining_minutes} minutes.\")\n",
      "metadata": {
        "trusted": true
      },
      "execution_count": 10,
      "outputs": [
        {
          "name": "stdout",
          "text": "200 minutes is equal to 3 hours and 20 minutes.\n",
          "output_type": "stream"
        }
      ]
    },
    {
      "cell_type": "markdown",
      "source": "<h3> Objectives </h3>\n<br>\n<ul>\n    <li> List popuar languages for Data Science</li>\n    <li> Practice coding in markdown and python</li>\n    <li> Get a hang of JupyterLabs </li>\n</ul>",
      "metadata": {}
    },
    {
      "cell_type": "markdown",
      "source": "<h2> Author </h2>\n<p> Rishabh Kankash // SlightlyHappy </p>",
      "metadata": {}
    },
    {
      "cell_type": "code",
      "source": "",
      "metadata": {},
      "execution_count": null,
      "outputs": []
    }
  ]
}